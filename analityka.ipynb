{
 "cells": [
  {
   "cell_type": "markdown",
   "metadata": {},
   "source": [
    "# Podstawy analityki w Pythonie"
   ]
  },
  {
   "cell_type": "markdown",
   "metadata": {},
   "source": [
    "Polecany notebook do nauki: https://infosecjupyterthon.com/workshops/day1/day1-3-Data-Analysis-with-Pandas%20Intro.html"
   ]
  },
  {
   "cell_type": "code",
   "execution_count": null,
   "metadata": {},
   "outputs": [],
   "source": [
    "#!pip install pandas"
   ]
  },
  {
   "cell_type": "code",
   "execution_count": null,
   "metadata": {},
   "outputs": [],
   "source": [
    "import pandas as pd"
   ]
  },
  {
   "cell_type": "markdown",
   "metadata": {},
   "source": [
    "**Pandas Series**\n",
    "\n",
    "https://pandas.pydata.org/docs/reference/api/pandas.Series.html"
   ]
  },
  {
   "cell_type": "code",
   "execution_count": null,
   "metadata": {},
   "outputs": [
    {
     "data": {
      "text/plain": [
       "1    Item 1\n",
       "2    Item 2\n",
       "3    Item 3\n",
       "dtype: object"
      ]
     },
     "metadata": {},
     "output_type": "display_data"
    }
   ],
   "source": [
    "# standardowe index'y\n",
    "data = [\"Item 1\", \"Item 2\", \"Item 3\"]\n",
    "pd.Series(data, index=[1,2,3])"
   ]
  },
  {
   "cell_type": "code",
   "execution_count": null,
   "metadata": {},
   "outputs": [
    {
     "data": {
      "text/plain": [
       "A    Item 1\n",
       "B    Item 2\n",
       "C    Item 3\n",
       "dtype: object"
      ]
     },
     "metadata": {},
     "output_type": "display_data"
    }
   ],
   "source": [
    "# niestandardowe index'y\n",
    "data = {\"A\": \"Item 1\", \"B\": \"Item 2\", \"C\": \"Item 3\"}\n",
    "pd.Series(data)"
   ]
  },
  {
   "cell_type": "markdown",
   "metadata": {},
   "source": [
    "**Pandas DataFrame**\n",
    "\n",
    "https://pandas.pydata.org/docs/reference/api/pandas.DataFrame.html"
   ]
  },
  {
   "cell_type": "code",
   "execution_count": null,
   "metadata": {},
   "outputs": [
    {
     "data": {
      "text/html": [
       "<div>\n",
       "<style scoped>\n",
       "    .dataframe tbody tr th:only-of-type {\n",
       "        vertical-align: middle;\n",
       "    }\n",
       "\n",
       "    .dataframe tbody tr th {\n",
       "        vertical-align: top;\n",
       "    }\n",
       "\n",
       "    .dataframe thead th {\n",
       "        text-align: right;\n",
       "    }\n",
       "</style>\n",
       "<table border=\"1\" class=\"dataframe\">\n",
       "  <thead>\n",
       "    <tr style=\"text-align: right;\">\n",
       "      <th></th>\n",
       "      <th>Value</th>\n",
       "      <th>Count</th>\n",
       "    </tr>\n",
       "    <tr>\n",
       "      <th>Name</th>\n",
       "      <th></th>\n",
       "      <th></th>\n",
       "    </tr>\n",
       "  </thead>\n",
       "  <tbody>\n",
       "    <tr>\n",
       "      <th>Item 1</th>\n",
       "      <td>6.0</td>\n",
       "      <td>111</td>\n",
       "    </tr>\n",
       "    <tr>\n",
       "      <th>Item 2</th>\n",
       "      <td>3.2</td>\n",
       "      <td>720</td>\n",
       "    </tr>\n",
       "    <tr>\n",
       "      <th>Item 3</th>\n",
       "      <td>11.9</td>\n",
       "      <td>82</td>\n",
       "    </tr>\n",
       "  </tbody>\n",
       "</table>\n",
       "</div>"
      ],
      "text/plain": [
       "       Value  Count\n",
       "Name               \n",
       "Item 1   6.0    111\n",
       "Item 2   3.2    720\n",
       "Item 3  11.9     82"
      ]
     },
     "metadata": {},
     "output_type": "display_data"
    }
   ],
   "source": [
    "data = {\"Name\": [\"Item 1\", \"Item 2\", \"Item 3\"], \"Value\": [\"6.0\", \"3.2\", \"11.9\"], \"Count\": [111, 720, 82]}\n",
    "#pd.DataFrame(data)\n",
    "#pd.DataFrame(data, index=[\"Item 1\", \"Item 2\", \"Item 3\"])\n",
    "df = pd.DataFrame(data).set_index('Name')\n",
    "df"
   ]
  },
  {
   "cell_type": "code",
   "execution_count": null,
   "metadata": {},
   "outputs": [
    {
     "data": {
      "text/plain": [
       "Index(['Value', 'Count'], dtype='object')"
      ]
     },
     "metadata": {},
     "output_type": "display_data"
    }
   ],
   "source": [
    "# kolumny\n",
    "\n",
    "df.columns"
   ]
  },
  {
   "cell_type": "code",
   "execution_count": null,
   "metadata": {},
   "outputs": [
    {
     "data": {
      "text/plain": [
       "Index(['Item 1', 'Item 2', 'Item 3'], dtype='object', name='Name')"
      ]
     },
     "metadata": {},
     "output_type": "display_data"
    }
   ],
   "source": [
    "#index'y wierszy\n",
    "\n",
    "df.index"
   ]
  },
  {
   "cell_type": "code",
   "execution_count": null,
   "metadata": {},
   "outputs": [
    {
     "data": {
      "text/html": [
       "<div>\n",
       "<style scoped>\n",
       "    .dataframe tbody tr th:only-of-type {\n",
       "        vertical-align: middle;\n",
       "    }\n",
       "\n",
       "    .dataframe tbody tr th {\n",
       "        vertical-align: top;\n",
       "    }\n",
       "\n",
       "    .dataframe thead th {\n",
       "        text-align: right;\n",
       "    }\n",
       "</style>\n",
       "<table border=\"1\" class=\"dataframe\">\n",
       "  <thead>\n",
       "    <tr style=\"text-align: right;\">\n",
       "      <th></th>\n",
       "      <th>Value</th>\n",
       "      <th>Count</th>\n",
       "    </tr>\n",
       "    <tr>\n",
       "      <th>Name</th>\n",
       "      <th></th>\n",
       "      <th></th>\n",
       "    </tr>\n",
       "  </thead>\n",
       "  <tbody>\n",
       "    <tr>\n",
       "      <th>Item 1</th>\n",
       "      <td>6.0</td>\n",
       "      <td>111</td>\n",
       "    </tr>\n",
       "    <tr>\n",
       "      <th>Item 2</th>\n",
       "      <td>3.2</td>\n",
       "      <td>720</td>\n",
       "    </tr>\n",
       "    <tr>\n",
       "      <th>Item 3</th>\n",
       "      <td>11.9</td>\n",
       "      <td>82</td>\n",
       "    </tr>\n",
       "  </tbody>\n",
       "</table>\n",
       "</div>"
      ],
      "text/plain": [
       "       Value  Count\n",
       "Name               \n",
       "Item 1   6.0    111\n",
       "Item 2   3.2    720\n",
       "Item 3  11.9     82"
      ]
     },
     "metadata": {},
     "output_type": "display_data"
    }
   ],
   "source": [
    "df"
   ]
  },
  {
   "cell_type": "code",
   "execution_count": null,
   "metadata": {},
   "outputs": [
    {
     "data": {
      "text/plain": [
       "'6.0'"
      ]
     },
     "metadata": {},
     "output_type": "display_data"
    }
   ],
   "source": [
    "# odwołanie do konkretnej komórki - przykład\n",
    "\n",
    "df.at[\"Item 1\", \"Value\"]"
   ]
  },
  {
   "cell_type": "code",
   "execution_count": null,
   "metadata": {},
   "outputs": [
    {
     "data": {
      "text/plain": [
       "Value    3.2\n",
       "Count    720\n",
       "Name: Item 2, dtype: object"
      ]
     },
     "metadata": {},
     "output_type": "display_data"
    }
   ],
   "source": [
    "# odwołanie do konkretnego wiersza - przykład\n",
    "\n",
    "df.loc[\"Item 2\"]\n",
    "#df.iloc[2]"
   ]
  },
  {
   "cell_type": "code",
   "execution_count": null,
   "metadata": {},
   "outputs": [
    {
     "data": {
      "text/plain": [
       "Name\n",
       "Item 1     6.0\n",
       "Item 2     3.2\n",
       "Item 3    11.9\n",
       "Name: Value, dtype: object"
      ]
     },
     "metadata": {},
     "output_type": "display_data"
    }
   ],
   "source": [
    "# odwołanie do kolumny/grupy kolumn - przykłady\n",
    "\n",
    "df[\"Value\"]\n",
    "#df[[\"Value\", \"Count\"]]"
   ]
  },
  {
   "cell_type": "code",
   "execution_count": null,
   "metadata": {},
   "outputs": [
    {
     "data": {
      "text/plain": [
       "pandas.core.series.Series"
      ]
     },
     "metadata": {},
     "output_type": "display_data"
    }
   ],
   "source": [
    "# pojedyncza kolumna DataFrame to w rzeczywistości obiekt Pandas Series\n",
    "\n",
    "type(df['Value'])"
   ]
  },
  {
   "cell_type": "code",
   "execution_count": null,
   "metadata": {},
   "outputs": [
    {
     "data": {
      "text/plain": [
       "pandas.core.frame.DataFrame"
      ]
     },
     "metadata": {},
     "output_type": "display_data"
    }
   ],
   "source": [
    "type(df[[\"Value\", \"Count\"]])"
   ]
  },
  {
   "cell_type": "code",
   "execution_count": null,
   "metadata": {},
   "outputs": [
    {
     "data": {
      "text/plain": [
       "Value    object\n",
       "Count     int64\n",
       "dtype: object"
      ]
     },
     "metadata": {},
     "output_type": "display_data"
    }
   ],
   "source": [
    "# sprawdzenie typów danych w poszczególnych kolumnach\n",
    "\n",
    "df.dtypes"
   ]
  },
  {
   "cell_type": "code",
   "execution_count": null,
   "metadata": {},
   "outputs": [
    {
     "data": {
      "text/html": [
       "<div>\n",
       "<style scoped>\n",
       "    .dataframe tbody tr th:only-of-type {\n",
       "        vertical-align: middle;\n",
       "    }\n",
       "\n",
       "    .dataframe tbody tr th {\n",
       "        vertical-align: top;\n",
       "    }\n",
       "\n",
       "    .dataframe thead th {\n",
       "        text-align: right;\n",
       "    }\n",
       "</style>\n",
       "<table border=\"1\" class=\"dataframe\">\n",
       "  <thead>\n",
       "    <tr style=\"text-align: right;\">\n",
       "      <th></th>\n",
       "      <th>Value</th>\n",
       "      <th>Count</th>\n",
       "    </tr>\n",
       "    <tr>\n",
       "      <th>Name</th>\n",
       "      <th></th>\n",
       "      <th></th>\n",
       "    </tr>\n",
       "  </thead>\n",
       "  <tbody>\n",
       "    <tr>\n",
       "      <th>Item 1</th>\n",
       "      <td>6.0</td>\n",
       "      <td>111</td>\n",
       "    </tr>\n",
       "    <tr>\n",
       "      <th>Item 2</th>\n",
       "      <td>3.2</td>\n",
       "      <td>720</td>\n",
       "    </tr>\n",
       "    <tr>\n",
       "      <th>Item 3</th>\n",
       "      <td>11.9</td>\n",
       "      <td>82</td>\n",
       "    </tr>\n",
       "  </tbody>\n",
       "</table>\n",
       "</div>"
      ],
      "text/plain": [
       "       Value  Count\n",
       "Name               \n",
       "Item 1   6.0    111\n",
       "Item 2   3.2    720\n",
       "Item 3  11.9     82"
      ]
     },
     "metadata": {},
     "output_type": "display_data"
    }
   ],
   "source": [
    "df"
   ]
  },
  {
   "cell_type": "code",
   "execution_count": null,
   "metadata": {},
   "outputs": [],
   "source": [
    "# Dodanie nowej kolumny\n",
    "df['UserName'] = ['SYSTEM', 'SYSTEM', 'MSTICAdmin']"
   ]
  },
  {
   "cell_type": "code",
   "execution_count": null,
   "metadata": {},
   "outputs": [
    {
     "data": {
      "text/html": [
       "<div>\n",
       "<style scoped>\n",
       "    .dataframe tbody tr th:only-of-type {\n",
       "        vertical-align: middle;\n",
       "    }\n",
       "\n",
       "    .dataframe tbody tr th {\n",
       "        vertical-align: top;\n",
       "    }\n",
       "\n",
       "    .dataframe thead th {\n",
       "        text-align: right;\n",
       "    }\n",
       "</style>\n",
       "<table border=\"1\" class=\"dataframe\">\n",
       "  <thead>\n",
       "    <tr style=\"text-align: right;\">\n",
       "      <th></th>\n",
       "      <th>Value</th>\n",
       "      <th>Count</th>\n",
       "      <th>UserName</th>\n",
       "    </tr>\n",
       "    <tr>\n",
       "      <th>Name</th>\n",
       "      <th></th>\n",
       "      <th></th>\n",
       "      <th></th>\n",
       "    </tr>\n",
       "  </thead>\n",
       "  <tbody>\n",
       "    <tr>\n",
       "      <th>Item 1</th>\n",
       "      <td>6.0</td>\n",
       "      <td>111</td>\n",
       "      <td>SYSTEM</td>\n",
       "    </tr>\n",
       "    <tr>\n",
       "      <th>Item 2</th>\n",
       "      <td>3.2</td>\n",
       "      <td>720</td>\n",
       "      <td>SYSTEM</td>\n",
       "    </tr>\n",
       "    <tr>\n",
       "      <th>Item 3</th>\n",
       "      <td>11.9</td>\n",
       "      <td>82</td>\n",
       "      <td>MSTICAdmin</td>\n",
       "    </tr>\n",
       "  </tbody>\n",
       "</table>\n",
       "</div>"
      ],
      "text/plain": [
       "       Value  Count    UserName\n",
       "Name                           \n",
       "Item 1   6.0    111      SYSTEM\n",
       "Item 2   3.2    720      SYSTEM\n",
       "Item 3  11.9     82  MSTICAdmin"
      ]
     },
     "metadata": {},
     "output_type": "display_data"
    }
   ],
   "source": [
    "df"
   ]
  },
  {
   "cell_type": "code",
   "execution_count": null,
   "metadata": {},
   "outputs": [
    {
     "data": {
      "text/html": [
       "<div>\n",
       "<style scoped>\n",
       "    .dataframe tbody tr th:only-of-type {\n",
       "        vertical-align: middle;\n",
       "    }\n",
       "\n",
       "    .dataframe tbody tr th {\n",
       "        vertical-align: top;\n",
       "    }\n",
       "\n",
       "    .dataframe thead th {\n",
       "        text-align: right;\n",
       "    }\n",
       "</style>\n",
       "<table border=\"1\" class=\"dataframe\">\n",
       "  <thead>\n",
       "    <tr style=\"text-align: right;\">\n",
       "      <th></th>\n",
       "      <th>Value</th>\n",
       "      <th>Count</th>\n",
       "      <th>UserName</th>\n",
       "    </tr>\n",
       "    <tr>\n",
       "      <th>Name</th>\n",
       "      <th></th>\n",
       "      <th></th>\n",
       "      <th></th>\n",
       "    </tr>\n",
       "  </thead>\n",
       "  <tbody>\n",
       "    <tr>\n",
       "      <th>Item 1</th>\n",
       "      <td>6.0</td>\n",
       "      <td>111</td>\n",
       "      <td>SYSTEM</td>\n",
       "    </tr>\n",
       "    <tr>\n",
       "      <th>Item 2</th>\n",
       "      <td>3.2</td>\n",
       "      <td>720</td>\n",
       "      <td>SYSTEM</td>\n",
       "    </tr>\n",
       "  </tbody>\n",
       "</table>\n",
       "</div>"
      ],
      "text/plain": [
       "       Value  Count UserName\n",
       "Name                        \n",
       "Item 1   6.0    111   SYSTEM\n",
       "Item 2   3.2    720   SYSTEM"
      ]
     },
     "metadata": {},
     "output_type": "display_data"
    }
   ],
   "source": [
    "# przykład odwołania do wierszy dla których mamy porządaną wartość w wybranej kolumnie\n",
    "\n",
    "df.loc[df[\"UserName\"] == \"SYSTEM\"]"
   ]
  },
  {
   "cell_type": "code",
   "execution_count": null,
   "metadata": {},
   "outputs": [
    {
     "data": {
      "text/html": [
       "<div>\n",
       "<style scoped>\n",
       "    .dataframe tbody tr th:only-of-type {\n",
       "        vertical-align: middle;\n",
       "    }\n",
       "\n",
       "    .dataframe tbody tr th {\n",
       "        vertical-align: top;\n",
       "    }\n",
       "\n",
       "    .dataframe thead th {\n",
       "        text-align: right;\n",
       "    }\n",
       "</style>\n",
       "<table border=\"1\" class=\"dataframe\">\n",
       "  <thead>\n",
       "    <tr style=\"text-align: right;\">\n",
       "      <th></th>\n",
       "      <th>Value</th>\n",
       "      <th>Count</th>\n",
       "      <th>UserName</th>\n",
       "    </tr>\n",
       "    <tr>\n",
       "      <th>Name</th>\n",
       "      <th></th>\n",
       "      <th></th>\n",
       "      <th></th>\n",
       "    </tr>\n",
       "  </thead>\n",
       "  <tbody>\n",
       "    <tr>\n",
       "      <th>Item 3</th>\n",
       "      <td>11.9</td>\n",
       "      <td>82</td>\n",
       "      <td>MSTICAdmin</td>\n",
       "    </tr>\n",
       "  </tbody>\n",
       "</table>\n",
       "</div>"
      ],
      "text/plain": [
       "       Value  Count    UserName\n",
       "Name                           \n",
       "Item 3  11.9     82  MSTICAdmin"
      ]
     },
     "metadata": {},
     "output_type": "display_data"
    }
   ],
   "source": [
    "df[df[\"UserName\"].str.endswith(\"Admin\")]"
   ]
  },
  {
   "cell_type": "code",
   "execution_count": null,
   "metadata": {},
   "outputs": [
    {
     "data": {
      "text/html": [
       "<div>\n",
       "<style scoped>\n",
       "    .dataframe tbody tr th:only-of-type {\n",
       "        vertical-align: middle;\n",
       "    }\n",
       "\n",
       "    .dataframe tbody tr th {\n",
       "        vertical-align: top;\n",
       "    }\n",
       "\n",
       "    .dataframe thead th {\n",
       "        text-align: right;\n",
       "    }\n",
       "</style>\n",
       "<table border=\"1\" class=\"dataframe\">\n",
       "  <thead>\n",
       "    <tr style=\"text-align: right;\">\n",
       "      <th></th>\n",
       "      <th>Value</th>\n",
       "      <th>Count</th>\n",
       "      <th>UserName</th>\n",
       "    </tr>\n",
       "    <tr>\n",
       "      <th>Name</th>\n",
       "      <th></th>\n",
       "      <th></th>\n",
       "      <th></th>\n",
       "    </tr>\n",
       "  </thead>\n",
       "  <tbody>\n",
       "    <tr>\n",
       "      <th>Item 3</th>\n",
       "      <td>11.9</td>\n",
       "      <td>82</td>\n",
       "      <td>MSTICAdmin</td>\n",
       "    </tr>\n",
       "  </tbody>\n",
       "</table>\n",
       "</div>"
      ],
      "text/plain": [
       "       Value  Count    UserName\n",
       "Name                           \n",
       "Item 3  11.9     82  MSTICAdmin"
      ]
     },
     "metadata": {},
     "output_type": "display_data"
    }
   ],
   "source": [
    "df[df[\"UserName\"].str.contains(\"Admi\")]"
   ]
  },
  {
   "cell_type": "code",
   "execution_count": null,
   "metadata": {},
   "outputs": [
    {
     "data": {
      "text/html": [
       "<div>\n",
       "<style scoped>\n",
       "    .dataframe tbody tr th:only-of-type {\n",
       "        vertical-align: middle;\n",
       "    }\n",
       "\n",
       "    .dataframe tbody tr th {\n",
       "        vertical-align: top;\n",
       "    }\n",
       "\n",
       "    .dataframe thead th {\n",
       "        text-align: right;\n",
       "    }\n",
       "</style>\n",
       "<table border=\"1\" class=\"dataframe\">\n",
       "  <thead>\n",
       "    <tr style=\"text-align: right;\">\n",
       "      <th></th>\n",
       "      <th>Value</th>\n",
       "      <th>Count</th>\n",
       "      <th>UserName</th>\n",
       "    </tr>\n",
       "    <tr>\n",
       "      <th>Name</th>\n",
       "      <th></th>\n",
       "      <th></th>\n",
       "      <th></th>\n",
       "    </tr>\n",
       "  </thead>\n",
       "  <tbody>\n",
       "    <tr>\n",
       "      <th>Item 3</th>\n",
       "      <td>11.9</td>\n",
       "      <td>82</td>\n",
       "      <td>MSTICAdmin</td>\n",
       "    </tr>\n",
       "  </tbody>\n",
       "</table>\n",
       "</div>"
      ],
      "text/plain": [
       "       Value  Count    UserName\n",
       "Name                           \n",
       "Item 3  11.9     82  MSTICAdmin"
      ]
     },
     "metadata": {},
     "output_type": "display_data"
    }
   ],
   "source": [
    "df[df[\"UserName\"].str.startswith(\"MS\")]"
   ]
  },
  {
   "cell_type": "code",
   "execution_count": null,
   "metadata": {},
   "outputs": [
    {
     "data": {
      "text/html": [
       "<div>\n",
       "<style scoped>\n",
       "    .dataframe tbody tr th:only-of-type {\n",
       "        vertical-align: middle;\n",
       "    }\n",
       "\n",
       "    .dataframe tbody tr th {\n",
       "        vertical-align: top;\n",
       "    }\n",
       "\n",
       "    .dataframe thead th {\n",
       "        text-align: right;\n",
       "    }\n",
       "</style>\n",
       "<table border=\"1\" class=\"dataframe\">\n",
       "  <thead>\n",
       "    <tr style=\"text-align: right;\">\n",
       "      <th></th>\n",
       "      <th>Value</th>\n",
       "      <th>Count</th>\n",
       "      <th>UserName</th>\n",
       "    </tr>\n",
       "    <tr>\n",
       "      <th>Name</th>\n",
       "      <th></th>\n",
       "      <th></th>\n",
       "      <th></th>\n",
       "    </tr>\n",
       "  </thead>\n",
       "  <tbody>\n",
       "    <tr>\n",
       "      <th>Item 1</th>\n",
       "      <td>6.0</td>\n",
       "      <td>111</td>\n",
       "      <td>SYSTEM</td>\n",
       "    </tr>\n",
       "  </tbody>\n",
       "</table>\n",
       "</div>"
      ],
      "text/plain": [
       "       Value  Count UserName\n",
       "Name                        \n",
       "Item 1   6.0    111   SYSTEM"
      ]
     },
     "metadata": {},
     "output_type": "display_data"
    }
   ],
   "source": [
    "# odwołanie do konkretnych wierszy na podstawie wielu warunków\n",
    "\n",
    "df[(df[\"Count\"] <= 200) & (df[\"UserName\"].isin([\"SYSTEM\", \"Test\"]))]"
   ]
  },
  {
   "cell_type": "code",
   "execution_count": null,
   "metadata": {},
   "outputs": [
    {
     "data": {
      "text/html": [
       "<div>\n",
       "<style scoped>\n",
       "    .dataframe tbody tr th:only-of-type {\n",
       "        vertical-align: middle;\n",
       "    }\n",
       "\n",
       "    .dataframe tbody tr th {\n",
       "        vertical-align: top;\n",
       "    }\n",
       "\n",
       "    .dataframe thead th {\n",
       "        text-align: right;\n",
       "    }\n",
       "</style>\n",
       "<table border=\"1\" class=\"dataframe\">\n",
       "  <thead>\n",
       "    <tr style=\"text-align: right;\">\n",
       "      <th></th>\n",
       "      <th>Value</th>\n",
       "      <th>Count</th>\n",
       "      <th>UserName</th>\n",
       "    </tr>\n",
       "    <tr>\n",
       "      <th>Name</th>\n",
       "      <th></th>\n",
       "      <th></th>\n",
       "      <th></th>\n",
       "    </tr>\n",
       "  </thead>\n",
       "  <tbody>\n",
       "    <tr>\n",
       "      <th>Item 3</th>\n",
       "      <td>11.9</td>\n",
       "      <td>82</td>\n",
       "      <td>MSTICAdmin</td>\n",
       "    </tr>\n",
       "    <tr>\n",
       "      <th>Item 1</th>\n",
       "      <td>6.0</td>\n",
       "      <td>111</td>\n",
       "      <td>SYSTEM</td>\n",
       "    </tr>\n",
       "    <tr>\n",
       "      <th>Item 2</th>\n",
       "      <td>3.2</td>\n",
       "      <td>720</td>\n",
       "      <td>SYSTEM</td>\n",
       "    </tr>\n",
       "  </tbody>\n",
       "</table>\n",
       "</div>"
      ],
      "text/plain": [
       "       Value  Count    UserName\n",
       "Name                           \n",
       "Item 3  11.9     82  MSTICAdmin\n",
       "Item 1   6.0    111      SYSTEM\n",
       "Item 2   3.2    720      SYSTEM"
      ]
     },
     "metadata": {},
     "output_type": "display_data"
    }
   ],
   "source": [
    "# sortowanie wartości po wybranej kolumnie\n",
    "\n",
    "df.sort_values(by = 'Count')"
   ]
  },
  {
   "cell_type": "code",
   "execution_count": null,
   "metadata": {},
   "outputs": [
    {
     "data": {
      "text/plain": [
       "<Axes: xlabel='Name'>"
      ]
     },
     "metadata": {},
     "output_type": "display_data"
    },
    {
     "data": {
      "image/png": "[encoded data removed]",
      "text/plain": [
       "<Figure size 640x480 with 1 Axes>"
      ]
     },
     "metadata": {},
     "output_type": "display_data"
    }
   ],
   "source": [
    "# przykładowy wykres\n",
    "\n",
    "df[\"Count\"].plot(kind='bar') #kind - rodzaj wykresu, w tym wypadku słupkowy"
   ]
  },
  {
   "cell_type": "markdown",
   "metadata": {},
   "source": [
    "Więcej podstaw w podlinkowanym na początku sekcji notebook'u. Pełna dokumentacja Pandas: https://pandas.pydata.org. "
   ]
  },
  {
   "cell_type": "markdown",
   "metadata": {},
   "source": [
    "# Projekt: Wzbogacanie alertów (alert enrichment)"
   ]
  },
  {
   "cell_type": "markdown",
   "metadata": {},
   "source": [
    "## Krok 1 - import modułów"
   ]
  },
  {
   "cell_type": "code",
   "execution_count": 6,
   "metadata": {},
   "outputs": [],
   "source": [
    "import pandas as pd\n",
    "import matplotlib.pyplot as plt\n",
    "import requests\n"
   ]
  },
  {
   "cell_type": "markdown",
   "metadata": {},
   "source": [
    "## Krok 2 - definicja funkcji do pobierania danych lokalizacyjncyh"
   ]
  },
  {
   "cell_type": "code",
   "execution_count": 7,
   "metadata": {},
   "outputs": [],
   "source": [
    "def get_ip_location(ip):\n",
    "    response = requests.get(f\"http://ip-api.com/json/{ip}\")\n",
    "    data = response.json()\n",
    "    if data['status'] == 'success':\n",
    "        return {\n",
    "            'kraj': data.get('country'),\n",
    "            'miasto': data.get('city'),\n",
    "            'dostawca_usług_internetowych': data.get('isp')\n",
    "        }\n",
    "    else:\n",
    "        return None\n"
   ]
  },
  {
   "cell_type": "markdown",
   "metadata": {},
   "source": [
    "## Krok 3 - Przykładowe dane"
   ]
  },
  {
   "cell_type": "code",
   "execution_count": 15,
   "metadata": {},
   "outputs": [],
   "source": [
    "data = {\n",
    "    'alert_id': [1, 2, 3, 4, 5],\n",
    "    'ip_address': ['8.8.8.8', '8.8.4.4', '212.77.100.83', '208.67.222.222', '194.29.133.3'],\n",
    "    'severity': ['high', 'medium', 'low', 'medium', 'high'],\n",
    "    'threat_type': ['malware', 'phishing', 'adware', 'malware', 'phishing'],\n",
    "    'alert_time': pd.to_datetime(['2023-11-01 08:30', '2023-11-01 09:15', '2023-11-01 09:45', '2023-11-01 10:05', '2023-11-01 10:45'])\n",
    "}\n",
    "df = pd.DataFrame(data)\n"
   ]
  },
  {
   "cell_type": "markdown",
   "metadata": {},
   "source": [
    "# Krok 4 - Funkcja do wzbogacania alertów (alert enrichment)"
   ]
  },
  {
   "cell_type": "code",
   "execution_count": 16,
   "metadata": {},
   "outputs": [],
   "source": [
    "def enrich_ip_addresses(df, ip_column):\n",
    "    enriched_data = []\n",
    "    for ip in df[ip_column]:\n",
    "        location = get_ip_location(ip)\n",
    "        if location:  # Sprawdzamy czy dostaliśmy lokalizację\n",
    "            enriched_data.append(location)\n",
    "        else:  # Jeśli nie, dodajemy puste dane dla zachowania struktury DataFrame\n",
    "            enriched_data.append({'kraj': None, 'miasto': None, 'dostawca_usług_internetowych': None})\n",
    "    return pd.concat([df, pd.DataFrame(enriched_data)], axis=1)\n"
   ]
  },
  {
   "cell_type": "markdown",
   "metadata": {},
   "source": [
    "## Krok 5 - Wzbogacenie danych i wyświetlenie DataFrame"
   ]
  },
  {
   "cell_type": "code",
   "execution_count": 17,
   "metadata": {},
   "outputs": [
    {
     "data": {
      "text/html": [
       "<div>\n",
       "<style scoped>\n",
       "    .dataframe tbody tr th:only-of-type {\n",
       "        vertical-align: middle;\n",
       "    }\n",
       "\n",
       "    .dataframe tbody tr th {\n",
       "        vertical-align: top;\n",
       "    }\n",
       "\n",
       "    .dataframe thead th {\n",
       "        text-align: right;\n",
       "    }\n",
       "</style>\n",
       "<table border=\"1\" class=\"dataframe\">\n",
       "  <thead>\n",
       "    <tr style=\"text-align: right;\">\n",
       "      <th></th>\n",
       "      <th>alert_id</th>\n",
       "      <th>ip_address</th>\n",
       "      <th>severity</th>\n",
       "      <th>threat_type</th>\n",
       "      <th>alert_time</th>\n",
       "      <th>kraj</th>\n",
       "      <th>miasto</th>\n",
       "      <th>dostawca_usług_internetowych</th>\n",
       "    </tr>\n",
       "  </thead>\n",
       "  <tbody>\n",
       "    <tr>\n",
       "      <th>0</th>\n",
       "      <td>1</td>\n",
       "      <td>8.8.8.8</td>\n",
       "      <td>high</td>\n",
       "      <td>malware</td>\n",
       "      <td>2023-11-01 08:30:00</td>\n",
       "      <td>United States</td>\n",
       "      <td>Ashburn</td>\n",
       "      <td>Google LLC</td>\n",
       "    </tr>\n",
       "    <tr>\n",
       "      <th>1</th>\n",
       "      <td>2</td>\n",
       "      <td>8.8.4.4</td>\n",
       "      <td>medium</td>\n",
       "      <td>phishing</td>\n",
       "      <td>2023-11-01 09:15:00</td>\n",
       "      <td>United States</td>\n",
       "      <td>Ashburn</td>\n",
       "      <td>Google LLC</td>\n",
       "    </tr>\n",
       "    <tr>\n",
       "      <th>2</th>\n",
       "      <td>3</td>\n",
       "      <td>212.77.100.83</td>\n",
       "      <td>low</td>\n",
       "      <td>adware</td>\n",
       "      <td>2023-11-01 09:45:00</td>\n",
       "      <td>Poland</td>\n",
       "      <td>Warsaw</td>\n",
       "      <td>Wirtualna Polska Media S.A.</td>\n",
       "    </tr>\n",
       "    <tr>\n",
       "      <th>3</th>\n",
       "      <td>4</td>\n",
       "      <td>208.67.222.222</td>\n",
       "      <td>medium</td>\n",
       "      <td>malware</td>\n",
       "      <td>2023-11-01 10:05:00</td>\n",
       "      <td>United States</td>\n",
       "      <td>Wright City</td>\n",
       "      <td>Cisco OpenDNS, LLC</td>\n",
       "    </tr>\n",
       "    <tr>\n",
       "      <th>4</th>\n",
       "      <td>5</td>\n",
       "      <td>194.29.133.3</td>\n",
       "      <td>high</td>\n",
       "      <td>phishing</td>\n",
       "      <td>2023-11-01 10:45:00</td>\n",
       "      <td>Poland</td>\n",
       "      <td>Warsaw</td>\n",
       "      <td>Politechnika Warszawska</td>\n",
       "    </tr>\n",
       "  </tbody>\n",
       "</table>\n",
       "</div>"
      ],
      "text/plain": [
       "   alert_id      ip_address severity threat_type          alert_time  \\\n",
       "0         1         8.8.8.8     high     malware 2023-11-01 08:30:00   \n",
       "1         2         8.8.4.4   medium    phishing 2023-11-01 09:15:00   \n",
       "2         3   212.77.100.83      low      adware 2023-11-01 09:45:00   \n",
       "3         4  208.67.222.222   medium     malware 2023-11-01 10:05:00   \n",
       "4         5    194.29.133.3     high    phishing 2023-11-01 10:45:00   \n",
       "\n",
       "            kraj       miasto dostawca_usług_internetowych  \n",
       "0  United States      Ashburn                   Google LLC  \n",
       "1  United States      Ashburn                   Google LLC  \n",
       "2         Poland       Warsaw  Wirtualna Polska Media S.A.  \n",
       "3  United States  Wright City           Cisco OpenDNS, LLC  \n",
       "4         Poland       Warsaw      Politechnika Warszawska  "
      ]
     },
     "execution_count": 17,
     "metadata": {},
     "output_type": "execute_result"
    }
   ],
   "source": [
    "enriched_df = enrich_ip_addresses(df, 'ip_address')\n",
    "enriched_df\n"
   ]
  },
  {
   "cell_type": "markdown",
   "metadata": {},
   "source": [
    "## Krok 6 - Prosta wizualizacja: histogram złoszeń wg. severity"
   ]
  },
  {
   "cell_type": "code",
   "execution_count": 18,
   "metadata": {},
   "outputs": [
    {
     "data": {
      "image/png": "[encoded data removed]",
      "text/plain": [
       "<Figure size 640x480 with 1 Axes>"
      ]
     },
     "metadata": {},
     "output_type": "display_data"
    }
   ],
   "source": [
    "# Tworzymy histogram severities\n",
    "enriched_df['severity'].value_counts().plot(kind='bar', color='skyblue')\n",
    "plt.title('Histogram zgłoszeń według poziomu zagrożenia')\n",
    "plt.xlabel('Poziom zagrożenia')\n",
    "plt.ylabel('Liczba zgłoszeń')\n",
    "plt.xticks(rotation=0)\n",
    "plt.show()\n"
   ]
  },
  {
   "cell_type": "markdown",
   "metadata": {},
   "source": [
    "## Krok 7 - WIzualizacja danych - liczba zgłoszeń na typ zagrożenia"
   ]
  },
  {
   "cell_type": "code",
   "execution_count": 19,
   "metadata": {},
   "outputs": [
    {
     "data": {
      "image/png": "[encoded data removed]",
      "text/plain": [
       "<Figure size 640x480 with 1 Axes>"
      ]
     },
     "metadata": {},
     "output_type": "display_data"
    }
   ],
   "source": [
    "# Tworzymy wykres kołowy dla typów zagrożeń\n",
    "enriched_df['threat_type'].value_counts().plot(kind='pie', autopct='%1.1f%%', startangle=90, colors=['tomato', 'gold', 'lightgreen'])\n",
    "plt.title('Procentowy udział typów zagrożeń w zgłoszeniach')\n",
    "plt.ylabel('')  # Usunięcie etykiety y, która jest domyślnie 'threat_type'\n",
    "plt.show()\n"
   ]
  },
  {
   "cell_type": "markdown",
   "metadata": {},
   "source": [
    "## Zadanie: Wyrysowanie wykresu częstotliwości występowania alertów w zależności od kraju\n",
    "\n",
    "Stwórz wykres słupkowy, który pokaże rozkład liczby alertów w zależności od kraju pochodzenia. Dodaj tytuł wykresu oraz etykiety osi, aby wykres był czytelny.\n",
    "\n",
    "**Wskazówka:** Wykorzystaj funkcję value_counts() na kolumnie zawierającej informacje o kraju, aby uzyskać liczbę wystąpień dla każdego kraju, a następnie użyj tej serii danych do stworzenia wykresu za pomocą metody plot() z Pandas lub biblioteki Matplotlib."
   ]
  },
  {
   "cell_type": "markdown",
   "metadata": {},
   "source": [
    "### Zadanie Krok 1 - Agregacja danych, aby uzyskać liczbę alertów dla każdego kraju"
   ]
  },
  {
   "cell_type": "code",
   "execution_count": null,
   "metadata": {},
   "outputs": [],
   "source": []
  },
  {
   "cell_type": "markdown",
   "metadata": {},
   "source": [
    "### Zadanie Krok 2 - Stwórz wykres słupkowy przedstawiający liczbę alertów dla poszczególnych krajów."
   ]
  },
  {
   "cell_type": "code",
   "execution_count": null,
   "metadata": {},
   "outputs": [],
   "source": []
  }
 ],
 "metadata": {
  "kernelspec": {
   "display_name": "Python 3",
   "language": "python",
   "name": "python3"
  },
  "language_info": {
   "codemirror_mode": {
    "name": "ipython",
    "version": 3
   },
   "file_extension": ".py",
   "mimetype": "text/x-python",
   "name": "python",
   "nbconvert_exporter": "python",
   "pygments_lexer": "ipython3",
   "version": "3.10.9"
  }
 },
 "nbformat": 4,
 "nbformat_minor": 2
}
